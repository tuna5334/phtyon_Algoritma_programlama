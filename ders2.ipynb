{
  "nbformat": 4,
  "nbformat_minor": 0,
  "metadata": {
    "colab": {
      "provenance": []
    },
    "kernelspec": {
      "name": "python3",
      "display_name": "Python 3"
    },
    "language_info": {
      "name": "python"
    }
  },
  "cells": [
    {
      "cell_type": "code",
      "execution_count": null,
      "metadata": {
        "colab": {
          "base_uri": "https://localhost:8080/"
        },
        "id": "f5ZqPjHtIV0S",
        "outputId": "629c7808-3ed3-443c-dc8f-8ffefa9041c8"
      },
      "outputs": [
        {
          "output_type": "stream",
          "name": "stdout",
          "text": [
            "merhaba Phyton ALgoritma Sınıfı\n"
          ]
        }
      ],
      "source": [
        "print(\"merhaba Phyton ALgoritma Sınıfı\")"
      ]
    },
    {
      "cell_type": "markdown",
      "source": [
        "string bilgi türü - > metinsel ifadedir\n",
        "intiger bilgi türü -> sayısal bir ifadedir"
      ],
      "metadata": {
        "id": "UZ04j4J7LCnn"
      }
    },
    {
      "cell_type": "code",
      "source": [
        " sys #import python programlama dilinde kütüphane eklemeye yarayan bir kod blogudur.\n",
        "print(sys.version)import\n"
      ],
      "metadata": {
        "colab": {
          "base_uri": "https://localhost:8080/"
        },
        "id": "lR83iRmUM4hs",
        "outputId": "c3d4f874-9fa3-41ac-de36-8593969c2abb"
      },
      "execution_count": null,
      "outputs": [
        {
          "output_type": "stream",
          "name": "stdout",
          "text": [
            "3.11.11 (main, Dec  4 2024, 08:55:07) [GCC 11.4.0]\n"
          ]
        }
      ]
    },
    {
      "cell_type": "code",
      "source": [
        "  from google.colab import drive\n",
        "drive.mount('/content/drive')\n"
      ],
      "metadata": {
        "colab": {
          "base_uri": "https://localhost:8080/"
        },
        "id": "i7fFV2QvNKSS",
        "outputId": "fe3e3120-3fd0-488d-aa6e-98d33cc52cfe"
      },
      "execution_count": null,
      "outputs": [
        {
          "output_type": "stream",
          "name": "stdout",
          "text": [
            "Mounted at /content/drive\n"
          ]
        }
      ]
    },
    {
      "cell_type": "code",
      "source": [
        "import os\n",
        "os.chdir('/content/drive/My Drive/algoritmalar_myo ')\n",
        "!pwd # ilk kod blogunun cıktısını bize veren bir kod blogudur."
      ],
      "metadata": {
        "colab": {
          "base_uri": "https://localhost:8080/"
        },
        "id": "1Urb5bQhPb61",
        "outputId": "ff68285c-fa67-4685-a221-73b6fb7d8737"
      },
      "execution_count": null,
      "outputs": [
        {
          "output_type": "stream",
          "name": "stdout",
          "text": [
            "/content/drive/My Drive/algoritmalar_myo \n"
          ]
        }
      ]
    }
  ]
}